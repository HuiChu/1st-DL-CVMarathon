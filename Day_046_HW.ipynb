{
 "cells": [
  {
   "cell_type": "markdown",
   "metadata": {},
   "source": [
    "### 作業\n",
    "目前已經學過許多的模型，相信大家對整體流程應該比較掌握了，這次作業請改用**手寫辨識資料集**，步驟流程都是一樣的，請試著自己撰寫程式碼來完成所有步驟"
   ]
  },
  {
   "cell_type": "code",
   "execution_count": 1,
   "metadata": {},
   "outputs": [],
   "source": [
    "from sklearn import datasets, metrics\n",
    "from sklearn.ensemble import GradientBoostingClassifier\n",
    "from sklearn.model_selection import train_test_split\n",
    "digits = datasets.load_digits()"
   ]
  },
  {
   "cell_type": "code",
   "execution_count": 2,
   "metadata": {},
   "outputs": [
    {
     "data": {
      "text/plain": [
       "array([0, 1, 2, ..., 8, 9, 8])"
      ]
     },
     "execution_count": 2,
     "metadata": {},
     "output_type": "execute_result"
    }
   ],
   "source": [
    "digits.target"
   ]
  },
  {
   "cell_type": "code",
   "execution_count": 3,
   "metadata": {},
   "outputs": [
    {
     "data": {
      "text/plain": [
       "(1797, 64)"
      ]
     },
     "execution_count": 3,
     "metadata": {},
     "output_type": "execute_result"
    }
   ],
   "source": [
    "digits.data.shape"
   ]
  },
  {
   "cell_type": "code",
   "execution_count": 8,
   "metadata": {},
   "outputs": [
    {
     "name": "stdout",
     "output_type": "stream",
     "text": [
      "Accuracy: 0.97\n"
     ]
    }
   ],
   "source": [
    "x_train, x_test, y_train, y_test = train_test_split(digits.data, digits.target, test_size = 0.25, random_state = 42)\n",
    "clf = GradientBoostingClassifier(loss = 'deviance', learning_rate = 0.1, n_estimators = 100)\n",
    "clf.fit(x_train, y_train)\n",
    "y_pred = clf.predict(x_test)\n",
    "acc = metrics.accuracy_score(y_test, y_pred)\n",
    "print('Accuracy: %.2f' % acc)"
   ]
  },
  {
   "cell_type": "code",
   "execution_count": 9,
   "metadata": {},
   "outputs": [
    {
     "data": {
      "text/plain": [
       "array([0.00000000e+00, 1.32647166e-03, 9.49431906e-03, 4.89783874e-03,\n",
       "       2.44706014e-03, 4.80500629e-02, 1.06180795e-02, 1.47482150e-04,\n",
       "       4.22216886e-04, 1.38366925e-03, 2.02212422e-02, 5.11331432e-04,\n",
       "       1.23877568e-02, 1.05812498e-02, 2.18938225e-03, 1.75544893e-04,\n",
       "       5.47137884e-04, 1.69871705e-03, 8.93611496e-03, 3.64783399e-02,\n",
       "       2.72834363e-02, 8.68812136e-02, 5.25837197e-03, 8.73541950e-06,\n",
       "       1.48997222e-05, 4.02196451e-03, 4.57558286e-02, 2.18308567e-02,\n",
       "       3.29489589e-02, 2.35330393e-02, 9.80613651e-03, 4.84961649e-04,\n",
       "       0.00000000e+00, 5.55560872e-02, 7.31862945e-03, 4.99791238e-03,\n",
       "       7.55039115e-02, 1.22806557e-02, 1.69166158e-02, 0.00000000e+00,\n",
       "       0.00000000e+00, 5.21783861e-03, 8.09841428e-02, 7.20315731e-02,\n",
       "       6.05318274e-03, 1.58698592e-02, 2.02022378e-02, 2.98438171e-04,\n",
       "       0.00000000e+00, 9.98936317e-04, 6.77728596e-03, 1.83517459e-02,\n",
       "       1.34580887e-02, 9.58587455e-03, 1.86729517e-02, 5.47970551e-04,\n",
       "       7.87720112e-04, 2.07532493e-04, 1.88900063e-02, 1.33105136e-03,\n",
       "       6.10266801e-02, 9.05685991e-03, 2.67704851e-02, 9.96330581e-03])"
      ]
     },
     "execution_count": 9,
     "metadata": {},
     "output_type": "execute_result"
    }
   ],
   "source": [
    "clf.feature_importances_"
   ]
  },
  {
   "cell_type": "code",
   "execution_count": 10,
   "metadata": {},
   "outputs": [
    {
     "data": {
      "text/plain": [
       "array([2.29386164e+03, 1.89551661e+03, 1.61887114e+03, 1.40127264e+03,\n",
       "       1.23056265e+03, 1.08787537e+03, 9.64709049e+02, 8.62438294e+02,\n",
       "       7.75181309e+02, 6.96873216e+02, 6.27126774e+02, 5.63832009e+02,\n",
       "       5.13088464e+02, 4.67503006e+02, 4.20663090e+02, 3.80798187e+02,\n",
       "       3.47031192e+02, 3.15920234e+02, 2.87486174e+02, 2.62576533e+02,\n",
       "       2.40141606e+02, 2.21602261e+02, 2.03148021e+02, 1.85891990e+02,\n",
       "       1.71165193e+02, 1.57829673e+02, 1.45878107e+02, 1.34764801e+02,\n",
       "       1.24901501e+02, 1.15728052e+02, 1.07169143e+02, 9.93020728e+01,\n",
       "       9.24444810e+01, 8.55092901e+01, 7.95412151e+01, 7.36102899e+01,\n",
       "       6.82875348e+01, 6.34920121e+01, 5.95434972e+01, 5.55427858e+01,\n",
       "       5.15732977e+01, 4.80828969e+01, 4.49286874e+01, 4.22975852e+01,\n",
       "       3.93896780e+01, 3.68733249e+01, 3.41084739e+01, 3.20496193e+01,\n",
       "       3.00251595e+01, 2.83079856e+01, 2.63694906e+01, 2.46191028e+01,\n",
       "       2.29832076e+01, 2.15232194e+01, 2.02393556e+01, 1.88603271e+01,\n",
       "       1.78478487e+01, 1.67463618e+01, 1.56679699e+01, 1.46589848e+01,\n",
       "       1.38490431e+01, 1.30170332e+01, 1.22117807e+01, 1.15030374e+01,\n",
       "       1.08808707e+01, 1.01907496e+01, 9.55743456e+00, 8.98142759e+00,\n",
       "       8.42355821e+00, 7.93527101e+00, 7.49957234e+00, 7.08243601e+00,\n",
       "       6.65913599e+00, 6.29466011e+00, 5.95570244e+00, 5.61516512e+00,\n",
       "       5.29855534e+00, 5.00873243e+00, 4.74323696e+00, 4.46573481e+00,\n",
       "       4.21382979e+00, 3.94767713e+00, 3.71480273e+00, 3.54049354e+00,\n",
       "       3.35752336e+00, 3.18458808e+00, 3.01935285e+00, 2.88115242e+00,\n",
       "       2.73043745e+00, 2.58709094e+00, 2.45281930e+00, 2.32176367e+00,\n",
       "       2.19853680e+00, 2.09425082e+00, 1.99277384e+00, 1.88492966e+00,\n",
       "       1.78250338e+00, 1.68288682e+00, 1.59373459e+00, 1.52283263e+00])"
      ]
     },
     "execution_count": 10,
     "metadata": {},
     "output_type": "execute_result"
    }
   ],
   "source": [
    "clf.train_score_"
   ]
  }
 ],
 "metadata": {
  "kernelspec": {
   "display_name": "Python 3",
   "language": "python",
   "name": "python3"
  },
  "language_info": {
   "codemirror_mode": {
    "name": "ipython",
    "version": 3
   },
   "file_extension": ".py",
   "mimetype": "text/x-python",
   "name": "python",
   "nbconvert_exporter": "python",
   "pygments_lexer": "ipython3",
   "version": "3.7.6"
  }
 },
 "nbformat": 4,
 "nbformat_minor": 2
}
