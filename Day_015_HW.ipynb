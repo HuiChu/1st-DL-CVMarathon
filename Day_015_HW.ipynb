{
 "cells": [
  {
   "cell_type": "markdown",
   "metadata": {
    "collapsed": true
   },
   "source": [
    "# [作業目標]\n",
    "- 請同學試著使用 pandas.corr() 這個函數來顯示相關係數並加以觀察結果 \n",
    "- 思考1 : 使用 pandas 有沒有什麼寫法, 可以顯示欄位中最大的幾筆, 以及最小幾筆呢? (Hint: 排序後列出前幾筆/後幾筆)\n",
    "- 思考2 : 試著使用散佈圖, 顯示相關度最大/最小的特徵與目標值的關係, 如果圖形不明顯, 是否有調整的方法?"
   ]
  },
  {
   "cell_type": "markdown",
   "metadata": {
    "collapsed": true
   },
   "source": [
    "# [作業重點]\n",
    "- 綜合前幾單元的作法, 試試看是否能夠用繪圖顯示出特徵與目標的相關性"
   ]
  },
  {
   "cell_type": "code",
   "execution_count": 1,
   "metadata": {},
   "outputs": [],
   "source": [
    "# 載入需要的套件\n",
    "import os\n",
    "import numpy as np\n",
    "import pandas as pd\n",
    "import matplotlib.pyplot as plt\n",
    "%matplotlib inline\n",
    "\n",
    "# 設定 data_path\n",
    "dir_data = '/Users/xiehuizhu/Downloads/2020ML/Day_004/'"
   ]
  },
  {
   "cell_type": "code",
   "execution_count": 2,
   "metadata": {},
   "outputs": [
    {
     "data": {
      "text/plain": [
       "(307511, 122)"
      ]
     },
     "execution_count": 2,
     "metadata": {},
     "output_type": "execute_result"
    }
   ],
   "source": [
    "# 讀取資料檔\n",
    "f_app_train = os.path.join(dir_data, 'application_train.csv')\n",
    "app_train = pd.read_csv(f_app_train)\n",
    "app_train.shape"
   ]
  },
  {
   "cell_type": "code",
   "execution_count": 3,
   "metadata": {},
   "outputs": [
    {
     "name": "stdout",
     "output_type": "stream",
     "text": [
      "(307511, 122)\n"
     ]
    },
    {
     "data": {
      "text/html": [
       "<div>\n",
       "<style scoped>\n",
       "    .dataframe tbody tr th:only-of-type {\n",
       "        vertical-align: middle;\n",
       "    }\n",
       "\n",
       "    .dataframe tbody tr th {\n",
       "        vertical-align: top;\n",
       "    }\n",
       "\n",
       "    .dataframe thead th {\n",
       "        text-align: right;\n",
       "    }\n",
       "</style>\n",
       "<table border=\"1\" class=\"dataframe\">\n",
       "  <thead>\n",
       "    <tr style=\"text-align: right;\">\n",
       "      <th></th>\n",
       "      <th>SK_ID_CURR</th>\n",
       "      <th>TARGET</th>\n",
       "      <th>NAME_CONTRACT_TYPE</th>\n",
       "      <th>CODE_GENDER</th>\n",
       "      <th>FLAG_OWN_CAR</th>\n",
       "      <th>FLAG_OWN_REALTY</th>\n",
       "      <th>CNT_CHILDREN</th>\n",
       "      <th>AMT_INCOME_TOTAL</th>\n",
       "      <th>AMT_CREDIT</th>\n",
       "      <th>AMT_ANNUITY</th>\n",
       "      <th>...</th>\n",
       "      <th>FLAG_DOCUMENT_18</th>\n",
       "      <th>FLAG_DOCUMENT_19</th>\n",
       "      <th>FLAG_DOCUMENT_20</th>\n",
       "      <th>FLAG_DOCUMENT_21</th>\n",
       "      <th>AMT_REQ_CREDIT_BUREAU_HOUR</th>\n",
       "      <th>AMT_REQ_CREDIT_BUREAU_DAY</th>\n",
       "      <th>AMT_REQ_CREDIT_BUREAU_WEEK</th>\n",
       "      <th>AMT_REQ_CREDIT_BUREAU_MON</th>\n",
       "      <th>AMT_REQ_CREDIT_BUREAU_QRT</th>\n",
       "      <th>AMT_REQ_CREDIT_BUREAU_YEAR</th>\n",
       "    </tr>\n",
       "  </thead>\n",
       "  <tbody>\n",
       "    <tr>\n",
       "      <th>0</th>\n",
       "      <td>100002</td>\n",
       "      <td>1</td>\n",
       "      <td>0</td>\n",
       "      <td>M</td>\n",
       "      <td>0</td>\n",
       "      <td>1</td>\n",
       "      <td>0</td>\n",
       "      <td>202500.0</td>\n",
       "      <td>406597.5</td>\n",
       "      <td>24700.5</td>\n",
       "      <td>...</td>\n",
       "      <td>0</td>\n",
       "      <td>0</td>\n",
       "      <td>0</td>\n",
       "      <td>0</td>\n",
       "      <td>0.0</td>\n",
       "      <td>0.0</td>\n",
       "      <td>0.0</td>\n",
       "      <td>0.0</td>\n",
       "      <td>0.0</td>\n",
       "      <td>1.0</td>\n",
       "    </tr>\n",
       "    <tr>\n",
       "      <th>1</th>\n",
       "      <td>100003</td>\n",
       "      <td>0</td>\n",
       "      <td>0</td>\n",
       "      <td>F</td>\n",
       "      <td>0</td>\n",
       "      <td>0</td>\n",
       "      <td>0</td>\n",
       "      <td>270000.0</td>\n",
       "      <td>1293502.5</td>\n",
       "      <td>35698.5</td>\n",
       "      <td>...</td>\n",
       "      <td>0</td>\n",
       "      <td>0</td>\n",
       "      <td>0</td>\n",
       "      <td>0</td>\n",
       "      <td>0.0</td>\n",
       "      <td>0.0</td>\n",
       "      <td>0.0</td>\n",
       "      <td>0.0</td>\n",
       "      <td>0.0</td>\n",
       "      <td>0.0</td>\n",
       "    </tr>\n",
       "    <tr>\n",
       "      <th>2</th>\n",
       "      <td>100004</td>\n",
       "      <td>0</td>\n",
       "      <td>1</td>\n",
       "      <td>M</td>\n",
       "      <td>1</td>\n",
       "      <td>1</td>\n",
       "      <td>0</td>\n",
       "      <td>67500.0</td>\n",
       "      <td>135000.0</td>\n",
       "      <td>6750.0</td>\n",
       "      <td>...</td>\n",
       "      <td>0</td>\n",
       "      <td>0</td>\n",
       "      <td>0</td>\n",
       "      <td>0</td>\n",
       "      <td>0.0</td>\n",
       "      <td>0.0</td>\n",
       "      <td>0.0</td>\n",
       "      <td>0.0</td>\n",
       "      <td>0.0</td>\n",
       "      <td>0.0</td>\n",
       "    </tr>\n",
       "    <tr>\n",
       "      <th>3</th>\n",
       "      <td>100006</td>\n",
       "      <td>0</td>\n",
       "      <td>0</td>\n",
       "      <td>F</td>\n",
       "      <td>0</td>\n",
       "      <td>1</td>\n",
       "      <td>0</td>\n",
       "      <td>135000.0</td>\n",
       "      <td>312682.5</td>\n",
       "      <td>29686.5</td>\n",
       "      <td>...</td>\n",
       "      <td>0</td>\n",
       "      <td>0</td>\n",
       "      <td>0</td>\n",
       "      <td>0</td>\n",
       "      <td>NaN</td>\n",
       "      <td>NaN</td>\n",
       "      <td>NaN</td>\n",
       "      <td>NaN</td>\n",
       "      <td>NaN</td>\n",
       "      <td>NaN</td>\n",
       "    </tr>\n",
       "    <tr>\n",
       "      <th>4</th>\n",
       "      <td>100007</td>\n",
       "      <td>0</td>\n",
       "      <td>0</td>\n",
       "      <td>M</td>\n",
       "      <td>0</td>\n",
       "      <td>1</td>\n",
       "      <td>0</td>\n",
       "      <td>121500.0</td>\n",
       "      <td>513000.0</td>\n",
       "      <td>21865.5</td>\n",
       "      <td>...</td>\n",
       "      <td>0</td>\n",
       "      <td>0</td>\n",
       "      <td>0</td>\n",
       "      <td>0</td>\n",
       "      <td>0.0</td>\n",
       "      <td>0.0</td>\n",
       "      <td>0.0</td>\n",
       "      <td>0.0</td>\n",
       "      <td>0.0</td>\n",
       "      <td>0.0</td>\n",
       "    </tr>\n",
       "  </tbody>\n",
       "</table>\n",
       "<p>5 rows × 122 columns</p>\n",
       "</div>"
      ],
      "text/plain": [
       "   SK_ID_CURR  TARGET  NAME_CONTRACT_TYPE CODE_GENDER  FLAG_OWN_CAR  \\\n",
       "0      100002       1                   0           M             0   \n",
       "1      100003       0                   0           F             0   \n",
       "2      100004       0                   1           M             1   \n",
       "3      100006       0                   0           F             0   \n",
       "4      100007       0                   0           M             0   \n",
       "\n",
       "   FLAG_OWN_REALTY  CNT_CHILDREN  AMT_INCOME_TOTAL  AMT_CREDIT  AMT_ANNUITY  \\\n",
       "0                1             0          202500.0    406597.5      24700.5   \n",
       "1                0             0          270000.0   1293502.5      35698.5   \n",
       "2                1             0           67500.0    135000.0       6750.0   \n",
       "3                1             0          135000.0    312682.5      29686.5   \n",
       "4                1             0          121500.0    513000.0      21865.5   \n",
       "\n",
       "   ...  FLAG_DOCUMENT_18 FLAG_DOCUMENT_19 FLAG_DOCUMENT_20 FLAG_DOCUMENT_21  \\\n",
       "0  ...                 0                0                0                0   \n",
       "1  ...                 0                0                0                0   \n",
       "2  ...                 0                0                0                0   \n",
       "3  ...                 0                0                0                0   \n",
       "4  ...                 0                0                0                0   \n",
       "\n",
       "  AMT_REQ_CREDIT_BUREAU_HOUR AMT_REQ_CREDIT_BUREAU_DAY  \\\n",
       "0                        0.0                       0.0   \n",
       "1                        0.0                       0.0   \n",
       "2                        0.0                       0.0   \n",
       "3                        NaN                       NaN   \n",
       "4                        0.0                       0.0   \n",
       "\n",
       "   AMT_REQ_CREDIT_BUREAU_WEEK  AMT_REQ_CREDIT_BUREAU_MON  \\\n",
       "0                         0.0                        0.0   \n",
       "1                         0.0                        0.0   \n",
       "2                         0.0                        0.0   \n",
       "3                         NaN                        NaN   \n",
       "4                         0.0                        0.0   \n",
       "\n",
       "   AMT_REQ_CREDIT_BUREAU_QRT  AMT_REQ_CREDIT_BUREAU_YEAR  \n",
       "0                        0.0                         1.0  \n",
       "1                        0.0                         0.0  \n",
       "2                        0.0                         0.0  \n",
       "3                        NaN                         NaN  \n",
       "4                        0.0                         0.0  \n",
       "\n",
       "[5 rows x 122 columns]"
      ]
     },
     "execution_count": 3,
     "metadata": {},
     "output_type": "execute_result"
    }
   ],
   "source": [
    "# 將只有兩種值的類別型欄位, 做 Label Encoder, 計算相關係數時讓這些欄位可以被包含在內\n",
    "from sklearn.preprocessing import LabelEncoder\n",
    "le = LabelEncoder()\n",
    "\n",
    "# 檢查每一個 column\n",
    "for col in app_train:\n",
    "    if app_train[col].dtype == 'object':\n",
    "        # 如果只有兩種值的類別型欄位\n",
    "        if len(list(app_train[col].unique())) <= 2:\n",
    "            # 就做 Label Encoder, 以加入相關係數檢查\n",
    "            app_train[col] = le.fit_transform(app_train[col])            \n",
    "print(app_train.shape)\n",
    "app_train.head()"
   ]
  },
  {
   "cell_type": "code",
   "execution_count": 4,
   "metadata": {},
   "outputs": [],
   "source": [
    "# 受雇日數為異常值的資料, 另外設一個欄位記錄, 並將異常的日數轉成空值 (np.nan)\n",
    "app_train['DAYS_EMPLOYED_ANOM'] = app_train[\"DAYS_EMPLOYED\"] == 365243 # 記錄異常\n",
    "app_train['DAYS_EMPLOYED'].replace({365243: np.nan}, inplace = True)\n",
    "\n",
    "# 出生日數 (DAYS_BIRTH) 取絕對值 \n",
    "app_train['DAYS_BIRTH'] = abs(app_train['DAYS_BIRTH'])"
   ]
  },
  {
   "cell_type": "markdown",
   "metadata": {},
   "source": [
    "### 相關係數\n",
    "一樣，pandas 很貼心地讓我們可以非常容易計算相關係數"
   ]
  },
  {
   "cell_type": "code",
   "execution_count": 5,
   "metadata": {},
   "outputs": [
    {
     "data": {
      "text/plain": [
       "SK_ID_CURR                   -0.002108\n",
       "TARGET                        1.000000\n",
       "NAME_CONTRACT_TYPE           -0.030896\n",
       "FLAG_OWN_CAR                 -0.021851\n",
       "FLAG_OWN_REALTY              -0.006148\n",
       "                                ...   \n",
       "AMT_REQ_CREDIT_BUREAU_WEEK    0.000788\n",
       "AMT_REQ_CREDIT_BUREAU_MON    -0.012462\n",
       "AMT_REQ_CREDIT_BUREAU_QRT    -0.002022\n",
       "AMT_REQ_CREDIT_BUREAU_YEAR    0.019930\n",
       "DAYS_EMPLOYED_ANOM           -0.045987\n",
       "Name: TARGET, Length: 110, dtype: float64"
      ]
     },
     "execution_count": 5,
     "metadata": {},
     "output_type": "execute_result"
    }
   ],
   "source": [
    "# 觀察相關係數\n",
    "app_train.corr()['TARGET']"
   ]
  },
  {
   "cell_type": "markdown",
   "metadata": {},
   "source": [
    "## 練習時間\n",
    "列出目標 (TARGET) 與所有欄位之間相關係數，數值最大以及最小各 15 個\n",
    "\n",
    "通過相關係數的結果觀察有興趣的欄位與 TARGET 或其他欄位的相關係數，並嘗試找出有趣的訊息\n",
    "- 最好的方式當然是畫圖，舉例來說，我們知道  EXT_SOURCE_3 這個欄位和 TARGET 之間的相關係數是 -0.178919 (在已經這個資料集已經是最負的了！)，那我們可以 EXT_SOURCE_3  為 x 軸， TARGET 為 y 軸，把資料給畫出來"
   ]
  },
  {
   "cell_type": "code",
   "execution_count": 6,
   "metadata": {},
   "outputs": [
    {
     "data": {
      "text/html": [
       "<div>\n",
       "<style scoped>\n",
       "    .dataframe tbody tr th:only-of-type {\n",
       "        vertical-align: middle;\n",
       "    }\n",
       "\n",
       "    .dataframe tbody tr th {\n",
       "        vertical-align: top;\n",
       "    }\n",
       "\n",
       "    .dataframe thead th {\n",
       "        text-align: right;\n",
       "    }\n",
       "</style>\n",
       "<table border=\"1\" class=\"dataframe\">\n",
       "  <thead>\n",
       "    <tr style=\"text-align: right;\">\n",
       "      <th></th>\n",
       "      <th>SK_ID_CURR</th>\n",
       "      <th>TARGET</th>\n",
       "      <th>NAME_CONTRACT_TYPE</th>\n",
       "      <th>FLAG_OWN_CAR</th>\n",
       "      <th>FLAG_OWN_REALTY</th>\n",
       "      <th>CNT_CHILDREN</th>\n",
       "      <th>AMT_INCOME_TOTAL</th>\n",
       "      <th>AMT_CREDIT</th>\n",
       "      <th>AMT_ANNUITY</th>\n",
       "      <th>AMT_GOODS_PRICE</th>\n",
       "      <th>...</th>\n",
       "      <th>FLAG_DOCUMENT_19</th>\n",
       "      <th>FLAG_DOCUMENT_20</th>\n",
       "      <th>FLAG_DOCUMENT_21</th>\n",
       "      <th>AMT_REQ_CREDIT_BUREAU_HOUR</th>\n",
       "      <th>AMT_REQ_CREDIT_BUREAU_DAY</th>\n",
       "      <th>AMT_REQ_CREDIT_BUREAU_WEEK</th>\n",
       "      <th>AMT_REQ_CREDIT_BUREAU_MON</th>\n",
       "      <th>AMT_REQ_CREDIT_BUREAU_QRT</th>\n",
       "      <th>AMT_REQ_CREDIT_BUREAU_YEAR</th>\n",
       "      <th>DAYS_EMPLOYED_ANOM</th>\n",
       "    </tr>\n",
       "  </thead>\n",
       "  <tbody>\n",
       "    <tr>\n",
       "      <th>SK_ID_CURR</th>\n",
       "      <td>1.000000</td>\n",
       "      <td>-0.002108</td>\n",
       "      <td>0.001654</td>\n",
       "      <td>0.001216</td>\n",
       "      <td>0.000703</td>\n",
       "      <td>-0.001129</td>\n",
       "      <td>-0.001820</td>\n",
       "      <td>-0.000343</td>\n",
       "      <td>-0.000433</td>\n",
       "      <td>-0.000232</td>\n",
       "      <td>...</td>\n",
       "      <td>0.000167</td>\n",
       "      <td>0.001073</td>\n",
       "      <td>0.000282</td>\n",
       "      <td>-0.002672</td>\n",
       "      <td>-0.002193</td>\n",
       "      <td>0.002099</td>\n",
       "      <td>0.000485</td>\n",
       "      <td>0.001025</td>\n",
       "      <td>0.004659</td>\n",
       "      <td>0.001368</td>\n",
       "    </tr>\n",
       "    <tr>\n",
       "      <th>TARGET</th>\n",
       "      <td>-0.002108</td>\n",
       "      <td>1.000000</td>\n",
       "      <td>-0.030896</td>\n",
       "      <td>-0.021851</td>\n",
       "      <td>-0.006148</td>\n",
       "      <td>0.019187</td>\n",
       "      <td>-0.003982</td>\n",
       "      <td>-0.030369</td>\n",
       "      <td>-0.012817</td>\n",
       "      <td>-0.039645</td>\n",
       "      <td>...</td>\n",
       "      <td>-0.001358</td>\n",
       "      <td>0.000215</td>\n",
       "      <td>0.003709</td>\n",
       "      <td>0.000930</td>\n",
       "      <td>0.002704</td>\n",
       "      <td>0.000788</td>\n",
       "      <td>-0.012462</td>\n",
       "      <td>-0.002022</td>\n",
       "      <td>0.019930</td>\n",
       "      <td>-0.045987</td>\n",
       "    </tr>\n",
       "    <tr>\n",
       "      <th>NAME_CONTRACT_TYPE</th>\n",
       "      <td>0.001654</td>\n",
       "      <td>-0.030896</td>\n",
       "      <td>1.000000</td>\n",
       "      <td>0.004022</td>\n",
       "      <td>0.067177</td>\n",
       "      <td>0.029998</td>\n",
       "      <td>-0.003531</td>\n",
       "      <td>-0.221648</td>\n",
       "      <td>-0.241544</td>\n",
       "      <td>-0.185850</td>\n",
       "      <td>...</td>\n",
       "      <td>-0.005190</td>\n",
       "      <td>-0.007308</td>\n",
       "      <td>0.055821</td>\n",
       "      <td>0.000453</td>\n",
       "      <td>-0.005118</td>\n",
       "      <td>-0.015296</td>\n",
       "      <td>-0.014369</td>\n",
       "      <td>-0.021962</td>\n",
       "      <td>-0.052494</td>\n",
       "      <td>-0.054967</td>\n",
       "    </tr>\n",
       "    <tr>\n",
       "      <th>FLAG_OWN_CAR</th>\n",
       "      <td>0.001216</td>\n",
       "      <td>-0.021851</td>\n",
       "      <td>0.004022</td>\n",
       "      <td>1.000000</td>\n",
       "      <td>-0.002817</td>\n",
       "      <td>0.102023</td>\n",
       "      <td>0.083383</td>\n",
       "      <td>0.116225</td>\n",
       "      <td>0.141588</td>\n",
       "      <td>0.120310</td>\n",
       "      <td>...</td>\n",
       "      <td>0.002184</td>\n",
       "      <td>0.007299</td>\n",
       "      <td>0.006741</td>\n",
       "      <td>0.002669</td>\n",
       "      <td>0.000572</td>\n",
       "      <td>0.000242</td>\n",
       "      <td>0.020477</td>\n",
       "      <td>-0.009936</td>\n",
       "      <td>-0.036345</td>\n",
       "      <td>-0.154778</td>\n",
       "    </tr>\n",
       "    <tr>\n",
       "      <th>FLAG_OWN_REALTY</th>\n",
       "      <td>0.000703</td>\n",
       "      <td>-0.006148</td>\n",
       "      <td>0.067177</td>\n",
       "      <td>-0.002817</td>\n",
       "      <td>1.000000</td>\n",
       "      <td>-0.002366</td>\n",
       "      <td>0.002934</td>\n",
       "      <td>-0.039270</td>\n",
       "      <td>-0.005225</td>\n",
       "      <td>-0.045537</td>\n",
       "      <td>...</td>\n",
       "      <td>-0.019364</td>\n",
       "      <td>-0.025130</td>\n",
       "      <td>-0.000173</td>\n",
       "      <td>-0.004120</td>\n",
       "      <td>-0.009267</td>\n",
       "      <td>0.007474</td>\n",
       "      <td>-0.004480</td>\n",
       "      <td>0.015451</td>\n",
       "      <td>0.067451</td>\n",
       "      <td>0.070107</td>\n",
       "    </tr>\n",
       "    <tr>\n",
       "      <th>...</th>\n",
       "      <td>...</td>\n",
       "      <td>...</td>\n",
       "      <td>...</td>\n",
       "      <td>...</td>\n",
       "      <td>...</td>\n",
       "      <td>...</td>\n",
       "      <td>...</td>\n",
       "      <td>...</td>\n",
       "      <td>...</td>\n",
       "      <td>...</td>\n",
       "      <td>...</td>\n",
       "      <td>...</td>\n",
       "      <td>...</td>\n",
       "      <td>...</td>\n",
       "      <td>...</td>\n",
       "      <td>...</td>\n",
       "      <td>...</td>\n",
       "      <td>...</td>\n",
       "      <td>...</td>\n",
       "      <td>...</td>\n",
       "      <td>...</td>\n",
       "    </tr>\n",
       "    <tr>\n",
       "      <th>AMT_REQ_CREDIT_BUREAU_WEEK</th>\n",
       "      <td>0.002099</td>\n",
       "      <td>0.000788</td>\n",
       "      <td>-0.015296</td>\n",
       "      <td>0.000242</td>\n",
       "      <td>0.007474</td>\n",
       "      <td>-0.002436</td>\n",
       "      <td>0.002387</td>\n",
       "      <td>-0.001275</td>\n",
       "      <td>0.013881</td>\n",
       "      <td>-0.001007</td>\n",
       "      <td>...</td>\n",
       "      <td>-0.001275</td>\n",
       "      <td>-0.001770</td>\n",
       "      <td>0.000081</td>\n",
       "      <td>0.004706</td>\n",
       "      <td>0.217412</td>\n",
       "      <td>1.000000</td>\n",
       "      <td>-0.014096</td>\n",
       "      <td>-0.015115</td>\n",
       "      <td>0.018917</td>\n",
       "      <td>0.003043</td>\n",
       "    </tr>\n",
       "    <tr>\n",
       "      <th>AMT_REQ_CREDIT_BUREAU_MON</th>\n",
       "      <td>0.000485</td>\n",
       "      <td>-0.012462</td>\n",
       "      <td>-0.014369</td>\n",
       "      <td>0.020477</td>\n",
       "      <td>-0.004480</td>\n",
       "      <td>-0.010808</td>\n",
       "      <td>0.024700</td>\n",
       "      <td>0.054451</td>\n",
       "      <td>0.039148</td>\n",
       "      <td>0.056422</td>\n",
       "      <td>...</td>\n",
       "      <td>-0.002729</td>\n",
       "      <td>0.001285</td>\n",
       "      <td>-0.003612</td>\n",
       "      <td>-0.000018</td>\n",
       "      <td>-0.005258</td>\n",
       "      <td>-0.014096</td>\n",
       "      <td>1.000000</td>\n",
       "      <td>-0.007789</td>\n",
       "      <td>-0.004975</td>\n",
       "      <td>-0.034111</td>\n",
       "    </tr>\n",
       "    <tr>\n",
       "      <th>AMT_REQ_CREDIT_BUREAU_QRT</th>\n",
       "      <td>0.001025</td>\n",
       "      <td>-0.002022</td>\n",
       "      <td>-0.021962</td>\n",
       "      <td>-0.009936</td>\n",
       "      <td>0.015451</td>\n",
       "      <td>-0.007836</td>\n",
       "      <td>0.004859</td>\n",
       "      <td>0.015925</td>\n",
       "      <td>0.010124</td>\n",
       "      <td>0.016432</td>\n",
       "      <td>...</td>\n",
       "      <td>-0.001575</td>\n",
       "      <td>-0.001010</td>\n",
       "      <td>-0.002004</td>\n",
       "      <td>-0.002716</td>\n",
       "      <td>-0.004416</td>\n",
       "      <td>-0.015115</td>\n",
       "      <td>-0.007789</td>\n",
       "      <td>1.000000</td>\n",
       "      <td>0.076208</td>\n",
       "      <td>0.015252</td>\n",
       "    </tr>\n",
       "    <tr>\n",
       "      <th>AMT_REQ_CREDIT_BUREAU_YEAR</th>\n",
       "      <td>0.004659</td>\n",
       "      <td>0.019930</td>\n",
       "      <td>-0.052494</td>\n",
       "      <td>-0.036345</td>\n",
       "      <td>0.067451</td>\n",
       "      <td>-0.041550</td>\n",
       "      <td>0.011690</td>\n",
       "      <td>-0.048448</td>\n",
       "      <td>-0.011320</td>\n",
       "      <td>-0.050998</td>\n",
       "      <td>...</td>\n",
       "      <td>-0.007009</td>\n",
       "      <td>-0.012126</td>\n",
       "      <td>-0.005457</td>\n",
       "      <td>-0.004597</td>\n",
       "      <td>-0.003355</td>\n",
       "      <td>0.018917</td>\n",
       "      <td>-0.004975</td>\n",
       "      <td>0.076208</td>\n",
       "      <td>1.000000</td>\n",
       "      <td>0.050001</td>\n",
       "    </tr>\n",
       "    <tr>\n",
       "      <th>DAYS_EMPLOYED_ANOM</th>\n",
       "      <td>0.001368</td>\n",
       "      <td>-0.045987</td>\n",
       "      <td>-0.054967</td>\n",
       "      <td>-0.154778</td>\n",
       "      <td>0.070107</td>\n",
       "      <td>-0.240722</td>\n",
       "      <td>-0.064038</td>\n",
       "      <td>-0.065594</td>\n",
       "      <td>-0.103608</td>\n",
       "      <td>-0.063569</td>\n",
       "      <td>...</td>\n",
       "      <td>-0.010047</td>\n",
       "      <td>-0.010182</td>\n",
       "      <td>-0.008578</td>\n",
       "      <td>-0.004729</td>\n",
       "      <td>0.000444</td>\n",
       "      <td>0.003043</td>\n",
       "      <td>-0.034111</td>\n",
       "      <td>0.015252</td>\n",
       "      <td>0.050001</td>\n",
       "      <td>1.000000</td>\n",
       "    </tr>\n",
       "  </tbody>\n",
       "</table>\n",
       "<p>110 rows × 110 columns</p>\n",
       "</div>"
      ],
      "text/plain": [
       "                            SK_ID_CURR    TARGET  NAME_CONTRACT_TYPE  \\\n",
       "SK_ID_CURR                    1.000000 -0.002108            0.001654   \n",
       "TARGET                       -0.002108  1.000000           -0.030896   \n",
       "NAME_CONTRACT_TYPE            0.001654 -0.030896            1.000000   \n",
       "FLAG_OWN_CAR                  0.001216 -0.021851            0.004022   \n",
       "FLAG_OWN_REALTY               0.000703 -0.006148            0.067177   \n",
       "...                                ...       ...                 ...   \n",
       "AMT_REQ_CREDIT_BUREAU_WEEK    0.002099  0.000788           -0.015296   \n",
       "AMT_REQ_CREDIT_BUREAU_MON     0.000485 -0.012462           -0.014369   \n",
       "AMT_REQ_CREDIT_BUREAU_QRT     0.001025 -0.002022           -0.021962   \n",
       "AMT_REQ_CREDIT_BUREAU_YEAR    0.004659  0.019930           -0.052494   \n",
       "DAYS_EMPLOYED_ANOM            0.001368 -0.045987           -0.054967   \n",
       "\n",
       "                            FLAG_OWN_CAR  FLAG_OWN_REALTY  CNT_CHILDREN  \\\n",
       "SK_ID_CURR                      0.001216         0.000703     -0.001129   \n",
       "TARGET                         -0.021851        -0.006148      0.019187   \n",
       "NAME_CONTRACT_TYPE              0.004022         0.067177      0.029998   \n",
       "FLAG_OWN_CAR                    1.000000        -0.002817      0.102023   \n",
       "FLAG_OWN_REALTY                -0.002817         1.000000     -0.002366   \n",
       "...                                  ...              ...           ...   \n",
       "AMT_REQ_CREDIT_BUREAU_WEEK      0.000242         0.007474     -0.002436   \n",
       "AMT_REQ_CREDIT_BUREAU_MON       0.020477        -0.004480     -0.010808   \n",
       "AMT_REQ_CREDIT_BUREAU_QRT      -0.009936         0.015451     -0.007836   \n",
       "AMT_REQ_CREDIT_BUREAU_YEAR     -0.036345         0.067451     -0.041550   \n",
       "DAYS_EMPLOYED_ANOM             -0.154778         0.070107     -0.240722   \n",
       "\n",
       "                            AMT_INCOME_TOTAL  AMT_CREDIT  AMT_ANNUITY  \\\n",
       "SK_ID_CURR                         -0.001820   -0.000343    -0.000433   \n",
       "TARGET                             -0.003982   -0.030369    -0.012817   \n",
       "NAME_CONTRACT_TYPE                 -0.003531   -0.221648    -0.241544   \n",
       "FLAG_OWN_CAR                        0.083383    0.116225     0.141588   \n",
       "FLAG_OWN_REALTY                     0.002934   -0.039270    -0.005225   \n",
       "...                                      ...         ...          ...   \n",
       "AMT_REQ_CREDIT_BUREAU_WEEK          0.002387   -0.001275     0.013881   \n",
       "AMT_REQ_CREDIT_BUREAU_MON           0.024700    0.054451     0.039148   \n",
       "AMT_REQ_CREDIT_BUREAU_QRT           0.004859    0.015925     0.010124   \n",
       "AMT_REQ_CREDIT_BUREAU_YEAR          0.011690   -0.048448    -0.011320   \n",
       "DAYS_EMPLOYED_ANOM                 -0.064038   -0.065594    -0.103608   \n",
       "\n",
       "                            AMT_GOODS_PRICE  ...  FLAG_DOCUMENT_19  \\\n",
       "SK_ID_CURR                        -0.000232  ...          0.000167   \n",
       "TARGET                            -0.039645  ...         -0.001358   \n",
       "NAME_CONTRACT_TYPE                -0.185850  ...         -0.005190   \n",
       "FLAG_OWN_CAR                       0.120310  ...          0.002184   \n",
       "FLAG_OWN_REALTY                   -0.045537  ...         -0.019364   \n",
       "...                                     ...  ...               ...   \n",
       "AMT_REQ_CREDIT_BUREAU_WEEK        -0.001007  ...         -0.001275   \n",
       "AMT_REQ_CREDIT_BUREAU_MON          0.056422  ...         -0.002729   \n",
       "AMT_REQ_CREDIT_BUREAU_QRT          0.016432  ...         -0.001575   \n",
       "AMT_REQ_CREDIT_BUREAU_YEAR        -0.050998  ...         -0.007009   \n",
       "DAYS_EMPLOYED_ANOM                -0.063569  ...         -0.010047   \n",
       "\n",
       "                            FLAG_DOCUMENT_20  FLAG_DOCUMENT_21  \\\n",
       "SK_ID_CURR                          0.001073          0.000282   \n",
       "TARGET                              0.000215          0.003709   \n",
       "NAME_CONTRACT_TYPE                 -0.007308          0.055821   \n",
       "FLAG_OWN_CAR                        0.007299          0.006741   \n",
       "FLAG_OWN_REALTY                    -0.025130         -0.000173   \n",
       "...                                      ...               ...   \n",
       "AMT_REQ_CREDIT_BUREAU_WEEK         -0.001770          0.000081   \n",
       "AMT_REQ_CREDIT_BUREAU_MON           0.001285         -0.003612   \n",
       "AMT_REQ_CREDIT_BUREAU_QRT          -0.001010         -0.002004   \n",
       "AMT_REQ_CREDIT_BUREAU_YEAR         -0.012126         -0.005457   \n",
       "DAYS_EMPLOYED_ANOM                 -0.010182         -0.008578   \n",
       "\n",
       "                            AMT_REQ_CREDIT_BUREAU_HOUR  \\\n",
       "SK_ID_CURR                                   -0.002672   \n",
       "TARGET                                        0.000930   \n",
       "NAME_CONTRACT_TYPE                            0.000453   \n",
       "FLAG_OWN_CAR                                  0.002669   \n",
       "FLAG_OWN_REALTY                              -0.004120   \n",
       "...                                                ...   \n",
       "AMT_REQ_CREDIT_BUREAU_WEEK                    0.004706   \n",
       "AMT_REQ_CREDIT_BUREAU_MON                    -0.000018   \n",
       "AMT_REQ_CREDIT_BUREAU_QRT                    -0.002716   \n",
       "AMT_REQ_CREDIT_BUREAU_YEAR                   -0.004597   \n",
       "DAYS_EMPLOYED_ANOM                           -0.004729   \n",
       "\n",
       "                            AMT_REQ_CREDIT_BUREAU_DAY  \\\n",
       "SK_ID_CURR                                  -0.002193   \n",
       "TARGET                                       0.002704   \n",
       "NAME_CONTRACT_TYPE                          -0.005118   \n",
       "FLAG_OWN_CAR                                 0.000572   \n",
       "FLAG_OWN_REALTY                             -0.009267   \n",
       "...                                               ...   \n",
       "AMT_REQ_CREDIT_BUREAU_WEEK                   0.217412   \n",
       "AMT_REQ_CREDIT_BUREAU_MON                   -0.005258   \n",
       "AMT_REQ_CREDIT_BUREAU_QRT                   -0.004416   \n",
       "AMT_REQ_CREDIT_BUREAU_YEAR                  -0.003355   \n",
       "DAYS_EMPLOYED_ANOM                           0.000444   \n",
       "\n",
       "                            AMT_REQ_CREDIT_BUREAU_WEEK  \\\n",
       "SK_ID_CURR                                    0.002099   \n",
       "TARGET                                        0.000788   \n",
       "NAME_CONTRACT_TYPE                           -0.015296   \n",
       "FLAG_OWN_CAR                                  0.000242   \n",
       "FLAG_OWN_REALTY                               0.007474   \n",
       "...                                                ...   \n",
       "AMT_REQ_CREDIT_BUREAU_WEEK                    1.000000   \n",
       "AMT_REQ_CREDIT_BUREAU_MON                    -0.014096   \n",
       "AMT_REQ_CREDIT_BUREAU_QRT                    -0.015115   \n",
       "AMT_REQ_CREDIT_BUREAU_YEAR                    0.018917   \n",
       "DAYS_EMPLOYED_ANOM                            0.003043   \n",
       "\n",
       "                            AMT_REQ_CREDIT_BUREAU_MON  \\\n",
       "SK_ID_CURR                                   0.000485   \n",
       "TARGET                                      -0.012462   \n",
       "NAME_CONTRACT_TYPE                          -0.014369   \n",
       "FLAG_OWN_CAR                                 0.020477   \n",
       "FLAG_OWN_REALTY                             -0.004480   \n",
       "...                                               ...   \n",
       "AMT_REQ_CREDIT_BUREAU_WEEK                  -0.014096   \n",
       "AMT_REQ_CREDIT_BUREAU_MON                    1.000000   \n",
       "AMT_REQ_CREDIT_BUREAU_QRT                   -0.007789   \n",
       "AMT_REQ_CREDIT_BUREAU_YEAR                  -0.004975   \n",
       "DAYS_EMPLOYED_ANOM                          -0.034111   \n",
       "\n",
       "                            AMT_REQ_CREDIT_BUREAU_QRT  \\\n",
       "SK_ID_CURR                                   0.001025   \n",
       "TARGET                                      -0.002022   \n",
       "NAME_CONTRACT_TYPE                          -0.021962   \n",
       "FLAG_OWN_CAR                                -0.009936   \n",
       "FLAG_OWN_REALTY                              0.015451   \n",
       "...                                               ...   \n",
       "AMT_REQ_CREDIT_BUREAU_WEEK                  -0.015115   \n",
       "AMT_REQ_CREDIT_BUREAU_MON                   -0.007789   \n",
       "AMT_REQ_CREDIT_BUREAU_QRT                    1.000000   \n",
       "AMT_REQ_CREDIT_BUREAU_YEAR                   0.076208   \n",
       "DAYS_EMPLOYED_ANOM                           0.015252   \n",
       "\n",
       "                            AMT_REQ_CREDIT_BUREAU_YEAR  DAYS_EMPLOYED_ANOM  \n",
       "SK_ID_CURR                                    0.004659            0.001368  \n",
       "TARGET                                        0.019930           -0.045987  \n",
       "NAME_CONTRACT_TYPE                           -0.052494           -0.054967  \n",
       "FLAG_OWN_CAR                                 -0.036345           -0.154778  \n",
       "FLAG_OWN_REALTY                               0.067451            0.070107  \n",
       "...                                                ...                 ...  \n",
       "AMT_REQ_CREDIT_BUREAU_WEEK                    0.018917            0.003043  \n",
       "AMT_REQ_CREDIT_BUREAU_MON                    -0.004975           -0.034111  \n",
       "AMT_REQ_CREDIT_BUREAU_QRT                     0.076208            0.015252  \n",
       "AMT_REQ_CREDIT_BUREAU_YEAR                    1.000000            0.050001  \n",
       "DAYS_EMPLOYED_ANOM                            0.050001            1.000000  \n",
       "\n",
       "[110 rows x 110 columns]"
      ]
     },
     "execution_count": 6,
     "metadata": {},
     "output_type": "execute_result"
    }
   ],
   "source": [
    "app_train.corr()"
   ]
  },
  {
   "cell_type": "code",
   "execution_count": 7,
   "metadata": {},
   "outputs": [],
   "source": [
    "corr = app_train.corr()['TARGET'].sort_values()"
   ]
  },
  {
   "cell_type": "code",
   "execution_count": 8,
   "metadata": {},
   "outputs": [
    {
     "data": {
      "text/plain": [
       "EXT_SOURCE_3         -0.178919\n",
       "EXT_SOURCE_2         -0.160472\n",
       "EXT_SOURCE_1         -0.155317\n",
       "DAYS_BIRTH           -0.078239\n",
       "DAYS_EMPLOYED_ANOM   -0.045987\n",
       "Name: TARGET, dtype: float64"
      ]
     },
     "execution_count": 8,
     "metadata": {},
     "output_type": "execute_result"
    }
   ],
   "source": [
    "corr[:5] # 最小"
   ]
  },
  {
   "cell_type": "code",
   "execution_count": 9,
   "metadata": {},
   "outputs": [
    {
     "data": {
      "text/plain": [
       "DAYS_ID_PUBLISH                0.051457\n",
       "DAYS_LAST_PHONE_CHANGE         0.055218\n",
       "REGION_RATING_CLIENT           0.058899\n",
       "REGION_RATING_CLIENT_W_CITY    0.060893\n",
       "DAYS_EMPLOYED                  0.074958\n",
       "Name: TARGET, dtype: float64"
      ]
     },
     "execution_count": 9,
     "metadata": {},
     "output_type": "execute_result"
    }
   ],
   "source": [
    "corr[-6:-1] # 最大"
   ]
  },
  {
   "cell_type": "code",
   "execution_count": 10,
   "metadata": {},
   "outputs": [
    {
     "data": {
      "image/png": "[encoded data removed]",
      "text/plain": [
       "<Figure size 360x360 with 1 Axes>"
      ]
     },
     "metadata": {
      "needs_background": "light"
     },
     "output_type": "display_data"
    },
    {
     "name": "stdout",
     "output_type": "stream",
     "text": [
      "Correlation: -0.1789\n"
     ]
    }
   ],
   "source": [
    "app_train.boxplot(column = 'EXT_SOURCE_3', by = 'TARGET', showfliers = False, figsize = (5, 5))\n",
    "plt.xlabel('Target')\n",
    "plt.ylabel('Normalized score from external data source 3')\n",
    "plt.suptitle('Boxplot grouped by Target')\n",
    "plt.show()\n",
    "\n",
    "print('Correlation: %.4f' % (corr[corr.index == 'EXT_SOURCE_3']))"
   ]
  },
  {
   "cell_type": "code",
   "execution_count": 11,
   "metadata": {},
   "outputs": [
    {
     "data": {
      "image/png": "[encoded data removed]",
      "text/plain": [
       "<Figure size 360x360 with 1 Axes>"
      ]
     },
     "metadata": {
      "needs_background": "light"
     },
     "output_type": "display_data"
    },
    {
     "name": "stdout",
     "output_type": "stream",
     "text": [
      "Correlation: -0.1605\n"
     ]
    }
   ],
   "source": [
    "app_train.boxplot(column = 'EXT_SOURCE_2', by = 'TARGET', showfliers = False, figsize = (5, 5))\n",
    "plt.xlabel('Target')\n",
    "plt.ylabel('Normalized score from external data source 2')\n",
    "plt.suptitle('Boxplot grouped by Target')\n",
    "plt.show()\n",
    "\n",
    "print('Correlation: %.4f' % (corr[corr.index == 'EXT_SOURCE_2']))"
   ]
  },
  {
   "cell_type": "code",
   "execution_count": 12,
   "metadata": {},
   "outputs": [
    {
     "data": {
      "image/png": "[encoded data removed]",
      "text/plain": [
       "<Figure size 360x360 with 1 Axes>"
      ]
     },
     "metadata": {
      "needs_background": "light"
     },
     "output_type": "display_data"
    },
    {
     "name": "stdout",
     "output_type": "stream",
     "text": [
      "Correlation: -0.0782\n"
     ]
    }
   ],
   "source": [
    "app_train['DAYS_BIRTH'] = app_train['DAYS_BIRTH'] / 365\n",
    "app_train.boxplot(column = 'DAYS_BIRTH', by = 'TARGET', showfliers = False, figsize = (5, 5))\n",
    "plt.xlabel('Target')\n",
    "plt.ylabel('Age at the time of application')\n",
    "plt.suptitle('Boxplot grouped by Target')\n",
    "plt.show()\n",
    "\n",
    "print('Correlation: %.4f' % (corr[corr.index == 'DAYS_BIRTH']))"
   ]
  },
  {
   "cell_type": "code",
   "execution_count": 13,
   "metadata": {},
   "outputs": [
    {
     "data": {
      "image/png": "[encoded data removed]",
      "text/plain": [
       "<Figure size 360x360 with 1 Axes>"
      ]
     },
     "metadata": {
      "needs_background": "light"
     },
     "output_type": "display_data"
    },
    {
     "name": "stdout",
     "output_type": "stream",
     "text": [
      "Correlation: 0.0750\n"
     ]
    }
   ],
   "source": [
    "app_train['DAYS_EMPLOYED'] = app_train['DAYS_EMPLOYED'] / 365\n",
    "app_train.boxplot(column = 'DAYS_EMPLOYED', by = 'TARGET', showfliers = False, figsize = (5, 5))\n",
    "plt.xlabel('Target')\n",
    "plt.ylabel('Years before the time of application')\n",
    "plt.suptitle('Boxplot grouped by Target')\n",
    "plt.show()\n",
    "\n",
    "print('Correlation: %.4f' % (corr[corr.index == 'DAYS_EMPLOYED']))"
   ]
  },
  {
   "cell_type": "code",
   "execution_count": 14,
   "metadata": {},
   "outputs": [
    {
     "data": {
      "image/png": "[encoded data removed]",
      "text/plain": [
       "<Figure size 360x360 with 1 Axes>"
      ]
     },
     "metadata": {
      "needs_background": "light"
     },
     "output_type": "display_data"
    },
    {
     "name": "stdout",
     "output_type": "stream",
     "text": [
      "Correlation: -0.2415\n"
     ]
    }
   ],
   "source": [
    "app_train.boxplot(column = 'AMT_ANNUITY', by = 'NAME_CONTRACT_TYPE', showfliers = False, figsize = (5, 5))\n",
    "plt.xlabel('Contract type')\n",
    "plt.ylabel('Loan annuity')\n",
    "plt.suptitle('Boxplot grouped by type of contract')\n",
    "plt.show()\n",
    "\n",
    "annuity_cor = app_train.corr()['AMT_ANNUITY']\n",
    "print('Correlation: %.4f' % (annuity_cor[annuity_cor.index == 'NAME_CONTRACT_TYPE']))"
   ]
  },
  {
   "cell_type": "code",
   "execution_count": 15,
   "metadata": {},
   "outputs": [
    {
     "data": {
      "text/plain": [
       "AMT_ANNUITY         1.000000\n",
       "AMT_GOODS_PRICE     0.775109\n",
       "AMT_CREDIT          0.770138\n",
       "AMT_INCOME_TOTAL    0.191657\n",
       "FLAG_OWN_CAR        0.141588\n",
       "FLAG_DOCUMENT_8     0.130584\n",
       "FLOORSMAX_AVG       0.130174\n",
       "FLOORSMAX_MEDI      0.129179\n",
       "FLOORSMAX_MODE      0.126302\n",
       "EXT_SOURCE_2        0.125804\n",
       "Name: AMT_ANNUITY, dtype: float64"
      ]
     },
     "execution_count": 15,
     "metadata": {},
     "output_type": "execute_result"
    }
   ],
   "source": [
    "annuity_cor.sort_values(ascending = False).head(n = 10)"
   ]
  },
  {
   "cell_type": "code",
   "execution_count": 16,
   "metadata": {},
   "outputs": [
    {
     "data": {
      "image/png": "[encoded data removed]",
      "text/plain": [
       "<Figure size 720x432 with 1 Axes>"
      ]
     },
     "metadata": {
      "needs_background": "light"
     },
     "output_type": "display_data"
    },
    {
     "name": "stdout",
     "output_type": "stream",
     "text": [
      "Correlation: 0.7701\n"
     ]
    }
   ],
   "source": [
    "plt.figure(figsize = (10, 6))\n",
    "plt.plot(app_train['AMT_CREDIT'], app_train['AMT_ANNUITY'], '.')\n",
    "plt.xlabel('Credit amount of the loan')\n",
    "plt.ylabel('Loan annuity')\n",
    "plt.show()\n",
    "\n",
    "print('Correlation: %.4f' % (annuity_cor[annuity_cor.index == 'AMT_CREDIT']))"
   ]
  }
 ],
 "metadata": {
  "kernelspec": {
   "display_name": "Python 3",
   "language": "python",
   "name": "python3"
  },
  "language_info": {
   "codemirror_mode": {
    "name": "ipython",
    "version": 3
   },
   "file_extension": ".py",
   "mimetype": "text/x-python",
   "name": "python",
   "nbconvert_exporter": "python",
   "pygments_lexer": "ipython3",
   "version": "3.7.6"
  }
 },
 "nbformat": 4,
 "nbformat_minor": 2
}
