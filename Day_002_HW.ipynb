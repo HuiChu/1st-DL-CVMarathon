{
 "cells": [
  {
   "cell_type": "markdown",
   "metadata": {},
   "source": [
    "## [作業目標]\n",
    "了解機器學習適合應用的領域與範疇。"
   ]
  },
  {
   "cell_type": "markdown",
   "metadata": {},
   "source": [
    "## [作業重點]\n",
    "透過瞭解機器學習的運作方式，找出非常適用機器學習應用的領域及其原因"
   ]
  },
  {
   "cell_type": "markdown",
   "metadata": {},
   "source": [
    "## 作業\n",
    "請找出一個你認為機器學習可以發光發熱的領域並闡述原因? "
   ]
  },
  {
   "cell_type": "markdown",
   "metadata": {},
   "source": [
    "影像辨識應用於咖啡生豆經過烘焙後挑豆的過程。\n",
    "    烘焙後，需檢查是否有小石頭、硬塊等混雜在裡面，也要檢查是否有受熱不均因此而燒焦的豆子。在精品咖啡中，尤其注意瑕疵豆，像是蟲蛀豆、豆子形狀不好、烘焙不均勻或沒有熟的豆子。因為在沖煮的過程中，些微參數變化對風味影響很大，豆子品質參差不齊很容易改變風味，甚至導致一些雜味出現。因此挑豆的過程對維持咖啡豆的品質是重要的環節之一。然而人工挑豆對眼睛、脊椎都可能有不良影響，長時間站立或彎腰、眼睛疲勞，最後也有可能太過疲勞而無法集中精神。\n",
    "    希望可以透過影像辨識，收集各種蟲蛀豆、畸形豆的樣子，分辨生豆與熟豆間的顏色差異。也可以建立色票，影像辨識時可以選擇特定顏色區間以排除烘過頭、或是烘焙不均勻的豆子。前期大量收集影像，處理資料到可以建立適合的模型，接著透過使用一批豆子辨識過第一次後，篩選掉跟被保留下來的豆子各自重複好幾次，不斷修正參數並增加各種影像，建立初步的模型。往後再透過每一次的使用做一些微調，或是訓練模型對顏色辨識的敏感度等等。"
   ]
  }
 ],
 "metadata": {
  "kernelspec": {
   "display_name": "Python 3",
   "language": "python",
   "name": "python3"
  },
  "language_info": {
   "codemirror_mode": {
    "name": "ipython",
    "version": 3
   },
   "file_extension": ".py",
   "mimetype": "text/x-python",
   "name": "python",
   "nbconvert_exporter": "python",
   "pygments_lexer": "ipython3",
   "version": "3.7.6"
  }
 },
 "nbformat": 4,
 "nbformat_minor": 2
}
